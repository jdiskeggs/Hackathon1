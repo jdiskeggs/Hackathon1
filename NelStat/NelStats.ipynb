{
 "cells": [
  {
   "cell_type": "code",
   "execution_count": 57,
   "metadata": {},
   "outputs": [
    {
     "data": {
      "text/plain": [
       "'{\"MTD\":{\"Commodity\":0.0029,\"CTA\":0.0024,\"Equity Market Neutral\":0.0015,\"Fixed Income\":0.0081,\"Quant Macro\":0.004,\"Volatility\":-0.0012},\"3M\":{\"Commodity\":0.0076,\"CTA\":-0.0052,\"Equity Market Neutral\":-0.0045,\"Fixed Income\":-0.0002,\"Quant Macro\":-0.004,\"Volatility\":0.0051},\"6M\":{\"Commodity\":-0.0217,\"CTA\":0.0001,\"Equity Market Neutral\":0.0008,\"Fixed Income\":-0.0007,\"Quant Macro\":0.0033,\"Volatility\":-0.0281},\"YTD\":{\"Commodity\":0.0101,\"CTA\":-0.018,\"Equity Market Neutral\":-0.0081,\"Fixed Income\":0.0239,\"Quant Macro\":-0.0104,\"Volatility\":-0.0088}}'"
      ]
     },
     "execution_count": 57,
     "metadata": {},
     "output_type": "execute_result"
    }
   ],
   "source": [
    "import pandas as pd\n",
    "import numpy as np\n",
    "import json\n",
    "\n",
    "#Import Data\n",
    "data = pd.read_csv('SampleData.csv')\n",
    "\n",
    "# Create Pivot\n",
    "AST = pd.pivot_table(data, \n",
    "                    values=['MTD', '3M', '6M', 'YTD'], \n",
    "                    index=['strategy_classification'], \n",
    "                    aggfunc=np.mean\n",
    "                    )\n",
    "\n",
    "#Sort Alphabetically by strategy_classification\n",
    "AST['labels'] = AST.index.str.lower()\n",
    "AST = AST.sort_values('labels').drop('labels', axis=1)\n",
    "\n",
    "#Re-order Columns\n",
    "AST = AST[['MTD', '3M', '6M', 'YTD']]\n",
    "\n",
    "# Change formatting of numbers into Percentage\n",
    "AST = AST.round(4)\n",
    "AST.to_json()"
   ]
  },
  {
   "cell_type": "code",
   "execution_count": null,
   "metadata": {},
   "outputs": [],
   "source": []
  }
 ],
 "metadata": {
  "kernelspec": {
   "display_name": "Python 3",
   "language": "python",
   "name": "python3"
  },
  "language_info": {
   "codemirror_mode": {
    "name": "ipython",
    "version": 3
   },
   "file_extension": ".py",
   "mimetype": "text/x-python",
   "name": "python",
   "nbconvert_exporter": "python",
   "pygments_lexer": "ipython3",
   "version": "3.6.4"
  }
 },
 "nbformat": 4,
 "nbformat_minor": 2
}
