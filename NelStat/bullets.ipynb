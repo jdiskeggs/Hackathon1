{
 "cells": [
  {
   "cell_type": "code",
   "execution_count": 34,
   "metadata": {},
   "outputs": [
    {
     "data": {
      "text/html": [
       "<div>\n",
       "<style scoped>\n",
       "    .dataframe tbody tr th:only-of-type {\n",
       "        vertical-align: middle;\n",
       "    }\n",
       "\n",
       "    .dataframe tbody tr th {\n",
       "        vertical-align: top;\n",
       "    }\n",
       "\n",
       "    .dataframe thead th {\n",
       "        text-align: right;\n",
       "    }\n",
       "</style>\n",
       "<table border=\"1\" class=\"dataframe\">\n",
       "  <thead>\n",
       "    <tr style=\"text-align: right;\">\n",
       "      <th></th>\n",
       "      <th>MTD</th>\n",
       "      <th>YTD</th>\n",
       "    </tr>\n",
       "    <tr>\n",
       "      <th>strategy_classification</th>\n",
       "      <th></th>\n",
       "      <th></th>\n",
       "    </tr>\n",
       "  </thead>\n",
       "  <tbody>\n",
       "    <tr>\n",
       "      <th>Commodity</th>\n",
       "      <td>0.2946</td>\n",
       "      <td>1.0080</td>\n",
       "    </tr>\n",
       "    <tr>\n",
       "      <th>CTA</th>\n",
       "      <td>0.2445</td>\n",
       "      <td>-1.8021</td>\n",
       "    </tr>\n",
       "    <tr>\n",
       "      <th>Equity Market Neutral</th>\n",
       "      <td>0.1545</td>\n",
       "      <td>-0.8119</td>\n",
       "    </tr>\n",
       "    <tr>\n",
       "      <th>Fixed Income</th>\n",
       "      <td>0.8062</td>\n",
       "      <td>2.3878</td>\n",
       "    </tr>\n",
       "    <tr>\n",
       "      <th>Quant Macro</th>\n",
       "      <td>0.3969</td>\n",
       "      <td>-1.0359</td>\n",
       "    </tr>\n",
       "    <tr>\n",
       "      <th>Volatility</th>\n",
       "      <td>-0.1244</td>\n",
       "      <td>-0.8836</td>\n",
       "    </tr>\n",
       "  </tbody>\n",
       "</table>\n",
       "</div>"
      ],
      "text/plain": [
       "                            MTD     YTD\n",
       "strategy_classification                \n",
       "Commodity                0.2946  1.0080\n",
       "CTA                      0.2445 -1.8021\n",
       "Equity Market Neutral    0.1545 -0.8119\n",
       "Fixed Income             0.8062  2.3878\n",
       "Quant Macro              0.3969 -1.0359\n",
       "Volatility              -0.1244 -0.8836"
      ]
     },
     "execution_count": 34,
     "metadata": {},
     "output_type": "execute_result"
    }
   ],
   "source": [
    "%matplotlib inline\n",
    "import pandas as pd\n",
    "import numpy as np\n",
    "import matplotlib.pyplot as plt\n",
    "\n",
    "#Import Data\n",
    "data = pd.read_csv('SampleData.csv')\n",
    "# Create Pivot\n",
    "AST = pd.pivot_table(data, \n",
    "                    values=['MTD', '3M', '6M', 'YTD'], \n",
    "                    index=['strategy_classification'], \n",
    "                    aggfunc=np.mean\n",
    "                    )\n",
    "#Sort Alphabetically by strategy_classification\n",
    "AST['labels'] = AST.index.str.lower()\n",
    "AST = AST.sort_values('labels').drop('labels', axis=1)\n",
    "#Re-order Columns\n",
    "AST = AST[['MTD', 'YTD']]\n",
    "#multiply 100\n",
    "AST.loc[:,'MTD'] *= 100\n",
    "AST.loc[:,'YTD'] *= 100\n",
    "AST"
   ]
  },
  {
   "cell_type": "code",
   "execution_count": 41,
   "metadata": {},
   "outputs": [
    {
     "data": {
      "image/png": "[encoded data removed]",
      "text/plain": [
       "<matplotlib.figure.Figure at 0x114b94b38>"
      ]
     },
     "metadata": {},
     "output_type": "display_data"
    }
   ],
   "source": [
    "from matplotlib.ticker import FuncFormatter\n",
    "ax = AST.plot(kind='barh')\n",
    "formatter = FuncFormatter(lambda x, pos: \"%d%%\" % (x))\n",
    "ax.xaxis.set_major_formatter(formatter)"
   ]
  },
  {
   "cell_type": "code",
   "execution_count": null,
   "metadata": {},
   "outputs": [],
   "source": []
  }
 ],
 "metadata": {
  "kernelspec": {
   "display_name": "Python 3",
   "language": "python",
   "name": "python3"
  },
  "language_info": {
   "codemirror_mode": {
    "name": "ipython",
    "version": 3
   },
   "file_extension": ".py",
   "mimetype": "text/x-python",
   "name": "python",
   "nbconvert_exporter": "python",
   "pygments_lexer": "ipython3",
   "version": "3.6.4"
  }
 },
 "nbformat": 4,
 "nbformat_minor": 2
}
